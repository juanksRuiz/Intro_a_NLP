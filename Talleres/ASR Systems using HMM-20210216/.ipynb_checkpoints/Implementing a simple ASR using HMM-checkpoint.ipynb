{
 "cells": [
  {
   "cell_type": "markdown",
   "metadata": {},
   "source": [
    "# Taller II: Implementing a simple ASR system using HMM\n",
    "\n",
    "En este taller implementaremos un sistema de reconocimiento automatico de habla, utilizando modelos ocultos de markov. Para este taller se puede utilizar la libreria [hmmlearn](https://hmmlearn.readthedocs.io/en/latest/tutorial.html#customizing) de Python. Este taller será parte de la nota del proyecto de evaluación del primer corte. Así que se deberá entregar al finalizar la semana 5 junto con el desarrollo del proyecto de evaluación.\n",
    "\n",
    "En este taller implementaremos un sistema de reconocimiento de habla de palabras aisladas. Esto quiere decir que hay una separación entre cada palabra pronunciada, y no se utilizará  habla fluida continua. La idea es implementar un sistema sencillo con un vocabulario limitado, para qu epuedan entender el principio de funcionamiento de estos sistemas. Para este taller deben seguir lso siguientes pasos:\n",
    "\n",
    "1. Cree un diccionaro pequeño compuesto de alrededor de 20 palabras. Si desean incluir más palabras no hay problema.\n",
    "2. Cada una de estas palabras dividalas en fonemas. Asigne a cada fonema un número para facilitar su identificación.\n",
    "3. Grabé cada una de las palbaras de forma aislada. \n",
    "4. Para cada señal de voz grabada calcule el mel espectrograma utilizando 39 componentes (este es el estandar que usan los sistemas modernos).\n",
    "5. Identifique las secciones del mel spectrograma que corresponden a cada fonema.\n",
    "6. Modele la distribución de los vectores del Mel espectrograma para cada fonema, esto puede hacerlo usando GMM (Gaussian Mixture Models).\n",
    "7. Calcule la matrix de probabilidades de transición utilizando el diccionario que ustedes crearón.\n",
    "8. Implemente el modelo HMM.\n",
    "9. Pruebe con los datos de entrenamiento si el modelo produce la secuencia de fonemas indicada.\n",
    "10. Genere un nuevo conjunto de palabras (al menos 10) que se conformen con los fonemas presentes en su diccionario. A partir de la señal de voz de cada una de estas nuevas palabras, trate de predecir la palbara escrita utilizando el modelo implementado.\n",
    "\n",
    "**NOTA:** Trate de Utilizar fonemas que tengan una única relación con letras (silabas) del alfabeto. Esto disminuirá la tasa de error del modelo."
   ]
  },
  {
   "cell_type": "markdown",
   "metadata": {},
   "source": [
    "1. Fecha -> /f/e/ch/a/\n",
    "2. Libro -> /l/i/b/r/o\n",
    "3. Lapiz -> /l/a/p/i/c\n",
    "4. Correr -> /k/o/rr/e/r\n",
    "5. Telefono -> /t/e/l/e/f/o/n/o\n",
    "6. Puerta -> /p/u/e/r/t/a\n",
    "7. Pantalla -> /p/a/n/t/a/ll/a\n",
    "8. Ximena -> /j/i/m/e/n/a\n",
    "9. Regla -> /r/e/g/l/a\n",
    "10. Billetera -> /b/i/ll/e/t/e/r/a\n",
    "11. Zapato -> /c/a/p/a/t/o\n",
    "12. Jamón -> /j/a/m/o/n/\n",
    "13. kiosko -> /k/i/o/s/k/o\n",
    "14. baloncesto -> /b/a/l/o/n/c/e/s/t/o\n",
    "15. murcielago -> /m/u/r/c/i/e/l/a/g/o\n",
    "16. muchacho -> /m/u/ch/a/ch/o\n",
    "17. ahijado -> /a/ /i/j/a/d/o\n",
    "18. Terremoto -> /t/e/rr/e/m/o/t/o\n",
    "19. Llorar -> /ll/o/r/a/r\n",
    "20. espantapajaro -> /e/s/p/a/n/t/a/p/a/j/a/r/o\n",
    "\n",
    "## Clasificacion de fonemas:\n",
    "\n",
    "1. /a/ -> a -> 1\n",
    "2. /b/ -> b,v,w(depende) -> 2\n",
    "3. /c/ -> c(ante e,i),z(ante a,o,u) -> 3\n",
    "4. /ch/ -> ch -> 4\n",
    "5. /d/ -> d ->5\n",
    "6. /e/ -> e -> 6\n",
    "7. /f/ -> f -> 8\n",
    "9. /g/ -> g (ante a,o,u const), gu(ante e i) -> 9\n",
    "10. // -> h -> 10\n",
    "11. /i/ -> i,y -> 11\n",
    "12. /j/ -> g(ante e,i) j(vocales) -> 12\n",
    "13. /k/ -> c (ante a, o, u o consontante) qu (ante e, i), k -> 13\n",
    "14. /l/ -> l ->14\n",
    "15. /ll/ -> ll ->15\n",
    "16. /m/ -> m -> 16\n",
    "17. /n/ -> n ->17\n",
    "18. /ñ/ -> ñ -> 18\n",
    "19. /o/ -> o -> 19\n",
    "20. /p/ ->p ->20\n",
    "21. /r/-> r (arena) -> 21\n",
    "22. /rr/-> (arriba) -> 22\n",
    "23./s/ -> s -> 23\n",
    "24. /t/ -> t -> 24\n",
    "25. /u/ -> u -> 25\n",
    "26. /x/ -> x -> 26\n",
    "27. /y/ -> y -> 27\n",
    "\n",
    "\n"
   ]
  },
  {
   "cell_type": "code",
   "execution_count": 22,
   "metadata": {},
   "outputs": [],
   "source": [
    "import numpy as np\n",
    "import matplotlib.pyplot as plt\n",
    "import sounddevice as sd\n",
    "import scipy as sc\n",
    "from scipy import signal\n",
    "from scipy.fft import fftshift\n",
    "\n",
    "import librosa\n",
    "import librosa.display\n",
    "\n",
    "from mpl_toolkits.mplot3d import Axes3D\n",
    "from matplotlib import cm\n",
    "\n",
    "import soundfile as sf\n",
    "import os\n",
    "\n",
    "from sklearn.mixture import GaussianMixture"
   ]
  },
  {
   "cell_type": "code",
   "execution_count": 2,
   "metadata": {},
   "outputs": [],
   "source": [
    "fs = 8000 # Numero de muestras por segundo\n",
    "nBits = 16 # Numero de bits por muestra del audio\n",
    "ID = -1\n",
    "seconds = 5 # Duracion de la grabacion\n",
    "Nfft = 512\n",
    "fm = np.arange(0, Nfft / 4) * fs / Nfft"
   ]
  },
  {
   "cell_type": "code",
   "execution_count": 3,
   "metadata": {},
   "outputs": [
    {
     "data": {
      "text/plain": [
       "['ahijado.wav',\n",
       " 'balocesto.wav',\n",
       " 'espantapajaro.wav',\n",
       " 'jamon.wav',\n",
       " 'kiosko.wav',\n",
       " 'llorar.wav',\n",
       " 'muchacho.wav',\n",
       " 'murcielago.wav',\n",
       " 'sound1.wav',\n",
       " 'sound10.wav',\n",
       " 'sound2.wav',\n",
       " 'sound3.wav',\n",
       " 'sound4.wav',\n",
       " 'sound5.wav',\n",
       " 'sound6.wav',\n",
       " 'sound7.wav',\n",
       " 'sound8.wav',\n",
       " 'sound9.wav',\n",
       " 'terremoto.wav',\n",
       " 'zapato.wav']"
      ]
     },
     "execution_count": 3,
     "metadata": {},
     "output_type": "execute_result"
    }
   ],
   "source": [
    "nombres = os.listdir('./utils/sounds/')\n",
    "nombres"
   ]
  },
  {
   "cell_type": "code",
   "execution_count": 4,
   "metadata": {},
   "outputs": [
    {
     "data": {
      "text/plain": [
       "{'ahijado.wav': 6,\n",
       " 'balocesto.wav': 10,\n",
       " 'espantapajaro.wav': 13,\n",
       " 'jamon.wav': 5,\n",
       " 'kiosko.wav': 6,\n",
       " 'llorar.wav': 5,\n",
       " 'muchacho.wav': 6,\n",
       " 'murcielago.wav': 10,\n",
       " 'sound1.wav': 4,\n",
       " 'sound10.wav': 8,\n",
       " 'sound2.wav': 5,\n",
       " 'sound3.wav': 5,\n",
       " 'sound4.wav': 5,\n",
       " 'sound5.wav': 8,\n",
       " 'sound6.wav': 6,\n",
       " 'sound7.wav': 7,\n",
       " 'sound8.wav': 6,\n",
       " 'sound9.wav': 5,\n",
       " 'terremoto.wav': 8,\n",
       " 'zapato.wav': 6}"
      ]
     },
     "execution_count": 4,
     "metadata": {},
     "output_type": "execute_result"
    }
   ],
   "source": [
    "fonemas = [6,10,13,5,6,5,6,10,4,8,5,5,5,8,6,7,6,5,8,6]\n",
    "dicc = {}\n",
    "for idx,i in enumerate(nombres):\n",
    "    dicc[i] = fonemas[idx]\n",
    "dicc"
   ]
  },
  {
   "cell_type": "code",
   "execution_count": 5,
   "metadata": {},
   "outputs": [],
   "source": [
    "def getAudios(nombres):\n",
    "    audios = []\n",
    "    for i in nombres:\n",
    "        y_aux, fs_aux = sf.read('./utils/sounds/' + i)\n",
    "        if len(y_aux.shape) > 1:\n",
    "            y_aux = y_aux[:,0]\n",
    "            y = ((1/np.std(y_aux))*y_aux).reshape(len(y_aux))\n",
    "        else:\n",
    "            y = ((1/np.std(y_aux))*y_aux).reshape(len(y_aux))\n",
    "        audios.append(y)\n",
    "    return audios"
   ]
  },
  {
   "cell_type": "code",
   "execution_count": 6,
   "metadata": {},
   "outputs": [],
   "source": [
    "def getMelSpectogram(audios,fs,Nfft):\n",
    "    spectograms = []\n",
    "    for i in audios:\n",
    "        Sm = librosa.feature.melspectrogram(y=i, sr=fs, n_fft=Nfft, n_mels = 39)\n",
    "        spectograms.append(Sm)\n",
    "    return spectograms"
   ]
  },
  {
   "cell_type": "code",
   "execution_count": 7,
   "metadata": {},
   "outputs": [],
   "source": [
    "audios = getAudios(nombres)"
   ]
  },
  {
   "cell_type": "code",
   "execution_count": 8,
   "metadata": {},
   "outputs": [],
   "source": [
    "Spectograms = getMelSpectogram(audios,fs,Nfft)"
   ]
  },
  {
   "cell_type": "code",
   "execution_count": 9,
   "metadata": {},
   "outputs": [
    {
     "name": "stderr",
     "output_type": "stream",
     "text": [
      "C:\\Users\\dfraf\\anaconda3\\envs\\Proyecto1_NLP\\lib\\site-packages\\librosa\\display.py:974: MatplotlibDeprecationWarning: The 'basey' parameter of __init__() has been renamed 'base' since Matplotlib 3.3; support for the old name will be dropped two minor releases later.\n",
      "  scaler(mode, **kwargs)\n",
      "C:\\Users\\dfraf\\anaconda3\\envs\\Proyecto1_NLP\\lib\\site-packages\\librosa\\display.py:974: MatplotlibDeprecationWarning: The 'linthreshy' parameter of __init__() has been renamed 'linthresh' since Matplotlib 3.3; support for the old name will be dropped two minor releases later.\n",
      "  scaler(mode, **kwargs)\n",
      "C:\\Users\\dfraf\\anaconda3\\envs\\Proyecto1_NLP\\lib\\site-packages\\librosa\\display.py:974: MatplotlibDeprecationWarning: The 'linscaley' parameter of __init__() has been renamed 'linscale' since Matplotlib 3.3; support for the old name will be dropped two minor releases later.\n",
      "  scaler(mode, **kwargs)\n"
     ]
    },
    {
     "data": {
      "image/png": "[encoded data removed]",
      "text/plain": [
       "<Figure size 432x288 with 2 Axes>"
      ]
     },
     "metadata": {
      "needs_background": "light"
     },
     "output_type": "display_data"
    }
   ],
   "source": [
    "# Graficando diversos espectogramas\n",
    "Sm = Spectograms[0]\n",
    "fig=plt.figure()\n",
    "#librosa.display.specshow(Sm,y_axis='mel',x_axis='time')\n",
    "librosa.display.specshow(Sm, sr=fs, hop_length=Nfft, x_axis='time', y_axis='log')\n",
    "plt.colorbar() #Confirmar unidad\n",
    "plt.title(\"Mel spectrogram\")\n",
    "plt.tight_layout()"
   ]
  },
  {
   "cell_type": "code",
   "execution_count": 10,
   "metadata": {},
   "outputs": [],
   "source": [
    "def getVectorErrores(Spectograms):\n",
    "    DSms = []\n",
    "    for i in Spectograms:\n",
    "        D_Sm = np.sqrt(np.sum((i[:,1:] - i[:,0:-1])**2,axis=0))\n",
    "        DSms.append(D_Sm)\n",
    "    return DSms"
   ]
  },
  {
   "cell_type": "code",
   "execution_count": 11,
   "metadata": {},
   "outputs": [],
   "source": [
    "DSms = getVectorErrores(Spectograms)"
   ]
  },
  {
   "cell_type": "code",
   "execution_count": 18,
   "metadata": {},
   "outputs": [
    {
     "data": {
      "text/plain": [
       "(39, 171)"
      ]
     },
     "execution_count": 18,
     "metadata": {},
     "output_type": "execute_result"
    }
   ],
   "source": [
    "Spectograms[0].shape"
   ]
  },
  {
   "cell_type": "code",
   "execution_count": 12,
   "metadata": {},
   "outputs": [],
   "source": [
    "y_aux, fs_aux = sf.read('./utils/sounds/' + 'ahijado.wav')\n",
    "sd.play(y_aux,fs_aux)"
   ]
  },
  {
   "cell_type": "code",
   "execution_count": 12,
   "metadata": {},
   "outputs": [
    {
     "name": "stdout",
     "output_type": "stream",
     "text": [
      "237\n"
     ]
    },
    {
     "data": {
      "text/plain": [
       "<matplotlib.collections.LineCollection at 0x1b18c8c6dc0>"
      ]
     },
     "execution_count": 12,
     "metadata": {},
     "output_type": "execute_result"
    },
    {
     "data": {
      "image/png": "[encoded data removed]",
      "text/plain": [
       "<Figure size 432x288 with 1 Axes>"
      ]
     },
     "metadata": {
      "needs_background": "light"
     },
     "output_type": "display_data"
    }
   ],
   "source": [
    "D_Sw = DSms[2]\n",
    "print(len(D_Sw))\n",
    "fig = plt.figure()\n",
    "plt.grid(True)\n",
    "plt.xlabel(\"Tiempo (muestras)\")\n",
    "plt.ylabel(\"Diferencia de frecuencias (Hz) con spectrograma\") # REVISAR\n",
    "plt.title(\"Diferencia de frecuencias con espectrograma\")\n",
    "plt.plot(D_Sw)\n",
    "plt.hlines(80, xmin = 0, xmax = len(D_Sw), colors = 'r')"
   ]
  },
  {
   "cell_type": "code",
   "execution_count": 15,
   "metadata": {},
   "outputs": [],
   "source": [
    "aux = D_Sw[D_Sw > 100]"
   ]
  },
  {
   "cell_type": "code",
   "execution_count": 16,
   "metadata": {},
   "outputs": [
    {
     "data": {
      "image/png": "[encoded data removed]",
      "text/plain": [
       "<Figure size 432x288 with 1 Axes>"
      ]
     },
     "metadata": {
      "needs_background": "light"
     },
     "output_type": "display_data"
    }
   ],
   "source": [
    "fig = plt.figure()\n",
    "plt.grid(True)\n",
    "plt.xlabel(\"Tiempo (muestras)\")\n",
    "plt.ylabel(\"Diferencia de frecuencias (Hz) con spectrograma\") # REVISAR\n",
    "plt.title(\"Diferencia de frecuencias con espectrograma\")\n",
    "plt.plot(aux);"
   ]
  },
  {
   "cell_type": "code",
   "execution_count": 13,
   "metadata": {},
   "outputs": [],
   "source": [
    "def getFonemas(DSms, dicc_fonemas, nombres):\n",
    "    epsilon = 50\n",
    "    fonemas = []\n",
    "    for idx,i in enumerate(DSms):\n",
    "        j_I = 0\n",
    "        while (i[j_I] < epsilon):\n",
    "            j_I += 1\n",
    "        j_D = len(i) - 1\n",
    "        while (i[j_D] < epsilon):\n",
    "            j_D -= 1\n",
    "        i_palabra = range(j_I,j_D + 1)\n",
    "        num_fonemas = dicc_fonemas[nombres[idx]]\n",
    "        fonemas.append(np.array_split(i_palabra,num_fonemas))\n",
    "        #fonemas.append(i_palabra)\n",
    "    return fonemas"
   ]
  },
  {
   "cell_type": "code",
   "execution_count": 20,
   "metadata": {},
   "outputs": [
    {
     "data": {
      "text/plain": [
       "12"
      ]
     },
     "execution_count": 20,
     "metadata": {},
     "output_type": "execute_result"
    }
   ],
   "source": [
    "fonemas = getFonemas(DSms, dicc, nombres)\n",
    "len(fonemas[0][0])"
   ]
  },
  {
   "cell_type": "code",
   "execution_count": 41,
   "metadata": {},
   "outputs": [
    {
     "data": {
      "text/plain": [
       "[[array([74, 75, 76, 77, 78, 79, 80, 81, 82, 83, 84, 85]),\n",
       "  array([86, 87, 88, 89, 90, 91, 92, 93, 94, 95, 96, 97]),\n",
       "  array([ 98,  99, 100, 101, 102, 103, 104, 105, 106, 107, 108, 109]),\n",
       "  array([110, 111, 112, 113, 114, 115, 116, 117, 118, 119, 120]),\n",
       "  array([121, 122, 123, 124, 125, 126, 127, 128, 129, 130, 131]),\n",
       "  array([132, 133, 134, 135, 136, 137, 138, 139, 140, 141, 142])],\n",
       " [array([21, 22, 23, 24]),\n",
       "  array([25, 26, 27, 28]),\n",
       "  array([29, 30, 31, 32]),\n",
       "  array([33, 34, 35, 36]),\n",
       "  array([37, 38, 39, 40]),\n",
       "  array([41, 42, 43]),\n",
       "  array([44, 45, 46]),\n",
       "  array([47, 48, 49]),\n",
       "  array([50, 51, 52]),\n",
       "  array([53, 54, 55])],\n",
       " [array([60, 61, 62, 63, 64, 65, 66, 67, 68]),\n",
       "  array([69, 70, 71, 72, 73, 74, 75, 76, 77]),\n",
       "  array([78, 79, 80, 81, 82, 83, 84, 85, 86]),\n",
       "  array([87, 88, 89, 90, 91, 92, 93, 94]),\n",
       "  array([ 95,  96,  97,  98,  99, 100, 101, 102]),\n",
       "  array([103, 104, 105, 106, 107, 108, 109, 110]),\n",
       "  array([111, 112, 113, 114, 115, 116, 117, 118]),\n",
       "  array([119, 120, 121, 122, 123, 124, 125, 126]),\n",
       "  array([127, 128, 129, 130, 131, 132, 133, 134]),\n",
       "  array([135, 136, 137, 138, 139, 140, 141, 142]),\n",
       "  array([143, 144, 145, 146, 147, 148, 149, 150]),\n",
       "  array([151, 152, 153, 154, 155, 156, 157, 158]),\n",
       "  array([159, 160, 161, 162, 163, 164, 165, 166])],\n",
       " [array([115, 116, 117, 118, 119, 120, 121, 122, 123, 124]),\n",
       "  array([125, 126, 127, 128, 129, 130, 131, 132, 133, 134]),\n",
       "  array([135, 136, 137, 138, 139, 140, 141, 142, 143, 144]),\n",
       "  array([145, 146, 147, 148, 149, 150, 151, 152, 153, 154]),\n",
       "  array([155, 156, 157, 158, 159, 160, 161, 162, 163])],\n",
       " [array([73, 74, 75, 76, 77, 78, 79, 80, 81]),\n",
       "  array([82, 83, 84, 85, 86, 87, 88, 89, 90]),\n",
       "  array([91, 92, 93, 94, 95, 96, 97, 98, 99]),\n",
       "  array([100, 101, 102, 103, 104, 105, 106, 107]),\n",
       "  array([108, 109, 110, 111, 112, 113, 114, 115]),\n",
       "  array([116, 117, 118, 119, 120, 121, 122, 123])],\n",
       " [array([58, 59, 60, 61, 62, 63, 64, 65, 66, 67, 68, 69, 70, 71, 72, 73]),\n",
       "  array([74, 75, 76, 77, 78, 79, 80, 81, 82, 83, 84, 85, 86, 87, 88]),\n",
       "  array([ 89,  90,  91,  92,  93,  94,  95,  96,  97,  98,  99, 100, 101,\n",
       "         102, 103]),\n",
       "  array([104, 105, 106, 107, 108, 109, 110, 111, 112, 113, 114, 115, 116,\n",
       "         117, 118]),\n",
       "  array([119, 120, 121, 122, 123, 124, 125, 126, 127, 128, 129, 130, 131,\n",
       "         132, 133])],\n",
       " [array([162, 163, 164, 165, 166, 167, 168, 169, 170]),\n",
       "  array([171, 172, 173, 174, 175, 176, 177, 178, 179]),\n",
       "  array([180, 181, 182, 183, 184, 185, 186, 187, 188]),\n",
       "  array([189, 190, 191, 192, 193, 194, 195, 196, 197]),\n",
       "  array([198, 199, 200, 201, 202, 203, 204, 205]),\n",
       "  array([206, 207, 208, 209, 210, 211, 212, 213])],\n",
       " [array([ 95,  96,  97,  98,  99, 100, 101, 102]),\n",
       "  array([103, 104, 105, 106, 107, 108, 109, 110]),\n",
       "  array([111, 112, 113, 114, 115, 116, 117, 118]),\n",
       "  array([119, 120, 121, 122, 123, 124, 125]),\n",
       "  array([126, 127, 128, 129, 130, 131, 132]),\n",
       "  array([133, 134, 135, 136, 137, 138, 139]),\n",
       "  array([140, 141, 142, 143, 144, 145, 146]),\n",
       "  array([147, 148, 149, 150, 151, 152, 153]),\n",
       "  array([154, 155, 156, 157, 158, 159, 160]),\n",
       "  array([161, 162, 163, 164, 165, 166, 167])],\n",
       " [array([111, 112, 113, 114, 115, 116, 117, 118, 119, 120, 121]),\n",
       "  array([122, 123, 124, 125, 126, 127, 128, 129, 130, 131, 132]),\n",
       "  array([133, 134, 135, 136, 137, 138, 139, 140, 141, 142, 143]),\n",
       "  array([144, 145, 146, 147, 148, 149, 150, 151, 152, 153])],\n",
       " [array([29, 30, 31, 32, 33, 34, 35, 36, 37, 38, 39, 40, 41, 42, 43, 44, 45,\n",
       "         46, 47, 48, 49, 50, 51, 52, 53]),\n",
       "  array([54, 55, 56, 57, 58, 59, 60, 61, 62, 63, 64, 65, 66, 67, 68, 69, 70,\n",
       "         71, 72, 73, 74, 75, 76, 77, 78]),\n",
       "  array([ 79,  80,  81,  82,  83,  84,  85,  86,  87,  88,  89,  90,  91,\n",
       "          92,  93,  94,  95,  96,  97,  98,  99, 100, 101, 102, 103]),\n",
       "  array([104, 105, 106, 107, 108, 109, 110, 111, 112, 113, 114, 115, 116,\n",
       "         117, 118, 119, 120, 121, 122, 123, 124, 125, 126, 127, 128]),\n",
       "  array([129, 130, 131, 132, 133, 134, 135, 136, 137, 138, 139, 140, 141,\n",
       "         142, 143, 144, 145, 146, 147, 148, 149, 150, 151, 152, 153]),\n",
       "  array([154, 155, 156, 157, 158, 159, 160, 161, 162, 163, 164, 165, 166,\n",
       "         167, 168, 169, 170, 171, 172, 173, 174, 175, 176, 177]),\n",
       "  array([178, 179, 180, 181, 182, 183, 184, 185, 186, 187, 188, 189, 190,\n",
       "         191, 192, 193, 194, 195, 196, 197, 198, 199, 200, 201]),\n",
       "  array([202, 203, 204, 205, 206, 207, 208, 209, 210, 211, 212, 213, 214,\n",
       "         215, 216, 217, 218, 219, 220, 221, 222, 223, 224, 225])],\n",
       " [array([63, 64, 65, 66, 67, 68, 69, 70, 71, 72, 73, 74, 75, 76, 77, 78, 79,\n",
       "         80]),\n",
       "  array([81, 82, 83, 84, 85, 86, 87, 88, 89, 90, 91, 92, 93, 94, 95, 96, 97,\n",
       "         98]),\n",
       "  array([ 99, 100, 101, 102, 103, 104, 105, 106, 107, 108, 109, 110, 111,\n",
       "         112, 113, 114, 115, 116]),\n",
       "  array([117, 118, 119, 120, 121, 122, 123, 124, 125, 126, 127, 128, 129,\n",
       "         130, 131, 132, 133]),\n",
       "  array([134, 135, 136, 137, 138, 139, 140, 141, 142, 143, 144, 145, 146,\n",
       "         147, 148, 149, 150])],\n",
       " [array([86, 87, 88, 89, 90, 91, 92, 93, 94, 95, 96, 97, 98]),\n",
       "  array([ 99, 100, 101, 102, 103, 104, 105, 106, 107, 108, 109, 110, 111]),\n",
       "  array([112, 113, 114, 115, 116, 117, 118, 119, 120, 121, 122, 123, 124]),\n",
       "  array([125, 126, 127, 128, 129, 130, 131, 132, 133, 134, 135, 136, 137]),\n",
       "  array([138, 139, 140, 141, 142, 143, 144, 145, 146, 147, 148, 149, 150])],\n",
       " [array([56, 57, 58, 59, 60, 61, 62, 63, 64, 65, 66, 67, 68, 69, 70, 71, 72,\n",
       "         73, 74, 75, 76, 77, 78]),\n",
       "  array([ 79,  80,  81,  82,  83,  84,  85,  86,  87,  88,  89,  90,  91,\n",
       "          92,  93,  94,  95,  96,  97,  98,  99, 100, 101]),\n",
       "  array([102, 103, 104, 105, 106, 107, 108, 109, 110, 111, 112, 113, 114,\n",
       "         115, 116, 117, 118, 119, 120, 121, 122, 123, 124]),\n",
       "  array([125, 126, 127, 128, 129, 130, 131, 132, 133, 134, 135, 136, 137,\n",
       "         138, 139, 140, 141, 142, 143, 144, 145, 146]),\n",
       "  array([147, 148, 149, 150, 151, 152, 153, 154, 155, 156, 157, 158, 159,\n",
       "         160, 161, 162, 163, 164, 165, 166, 167, 168])],\n",
       " [array([140, 141, 142, 143, 144, 145, 146, 147, 148, 149, 150]),\n",
       "  array([151, 152, 153, 154, 155, 156, 157, 158, 159, 160, 161]),\n",
       "  array([162, 163, 164, 165, 166, 167, 168, 169, 170, 171, 172]),\n",
       "  array([173, 174, 175, 176, 177, 178, 179, 180, 181, 182]),\n",
       "  array([183, 184, 185, 186, 187, 188, 189, 190, 191, 192]),\n",
       "  array([193, 194, 195, 196, 197, 198, 199, 200, 201, 202]),\n",
       "  array([203, 204, 205, 206, 207, 208, 209, 210, 211, 212]),\n",
       "  array([213, 214, 215, 216, 217, 218, 219, 220, 221, 222])],\n",
       " [array([134, 135, 136, 137, 138, 139, 140, 141]),\n",
       "  array([142, 143, 144, 145, 146, 147, 148, 149]),\n",
       "  array([150, 151, 152, 153, 154, 155, 156, 157]),\n",
       "  array([158, 159, 160, 161, 162, 163, 164, 165]),\n",
       "  array([166, 167, 168, 169, 170, 171, 172, 173]),\n",
       "  array([174, 175, 176, 177, 178, 179, 180])],\n",
       " [array([164, 165, 166, 167, 168, 169, 170, 171]),\n",
       "  array([172, 173, 174, 175, 176, 177, 178, 179]),\n",
       "  array([180, 181, 182, 183, 184, 185, 186]),\n",
       "  array([187, 188, 189, 190, 191, 192, 193]),\n",
       "  array([194, 195, 196, 197, 198, 199, 200]),\n",
       "  array([201, 202, 203, 204, 205, 206, 207]),\n",
       "  array([208, 209, 210, 211, 212, 213, 214])],\n",
       " [array([170, 171, 172, 173, 174, 175, 176]),\n",
       "  array([177, 178, 179, 180, 181, 182]),\n",
       "  array([183, 184, 185, 186, 187, 188]),\n",
       "  array([189, 190, 191, 192, 193, 194]),\n",
       "  array([195, 196, 197, 198, 199, 200]),\n",
       "  array([201, 202, 203, 204, 205, 206])],\n",
       " [array([171, 172, 173, 174, 175, 176, 177, 178, 179]),\n",
       "  array([180, 181, 182, 183, 184, 185, 186, 187, 188]),\n",
       "  array([189, 190, 191, 192, 193, 194, 195, 196]),\n",
       "  array([197, 198, 199, 200, 201, 202, 203, 204]),\n",
       "  array([205, 206, 207, 208, 209, 210, 211, 212])],\n",
       " [array([22, 23, 24, 25, 26]),\n",
       "  array([27, 28, 29, 30, 31]),\n",
       "  array([32, 33, 34, 35, 36]),\n",
       "  array([37, 38, 39, 40, 41]),\n",
       "  array([42, 43, 44, 45, 46]),\n",
       "  array([47, 48, 49, 50, 51]),\n",
       "  array([52, 53, 54, 55, 56]),\n",
       "  array([57, 58, 59, 60])],\n",
       " [array([109, 110, 111, 112, 113, 114, 115, 116, 117, 118, 119, 120, 121,\n",
       "         122, 123, 124, 125, 126, 127, 128, 129]),\n",
       "  array([130, 131, 132, 133, 134, 135, 136, 137, 138, 139, 140, 141, 142,\n",
       "         143, 144, 145, 146, 147, 148, 149, 150]),\n",
       "  array([151, 152, 153, 154, 155, 156, 157, 158, 159, 160, 161, 162, 163,\n",
       "         164, 165, 166, 167, 168, 169, 170]),\n",
       "  array([171, 172, 173, 174, 175, 176, 177, 178, 179, 180, 181, 182, 183,\n",
       "         184, 185, 186, 187, 188, 189, 190]),\n",
       "  array([191, 192, 193, 194, 195, 196, 197, 198, 199, 200, 201, 202, 203,\n",
       "         204, 205, 206, 207, 208, 209, 210]),\n",
       "  array([211, 212, 213, 214, 215, 216, 217, 218, 219, 220, 221, 222, 223,\n",
       "         224, 225, 226, 227, 228, 229, 230])]]"
      ]
     },
     "execution_count": 41,
     "metadata": {},
     "output_type": "execute_result"
    }
   ],
   "source": [
    "# Construccion del modelo GMM\n",
    "# totalFonemas = 22\n",
    "# spectogramas: lista de los espectogramas\n",
    "# Fonemas: lista de fonemas (inidices)\n",
    "\n",
    "def getModeloGMM(fonemas, spectogramas, totalFonemas):\n",
    "    bandera = True\n",
    "    for idx,palabra in enumerate(fonemas):\n",
    "        spectograma = spectogramas[idx]\n",
    "        matrix_aux = spectograma[:,palabra[0][0]:palabra[0][-1]]\n",
    "        for i in range(1,len(palabra)):\n",
    "            fonema = palabra[i]\n",
    "            subMatrix = spectograma[:,fonema[0]:fonema[-1]]\n",
    "            matrix_aux = np.concatenate((matrix_aux, subMatrix), axis = 1)\n",
    "        if bandera:\n",
    "            matrix_model = matrix_aux\n",
    "            bandera = False\n",
    "        else:\n",
    "            matrix_model = np.concatenate((matrix_model,matrix_aux), axis = 1)\n",
    "    \n",
    "    matrix_final = matrix_model.T\n",
    "    gm = GaussianMixture(n_components=totalFonemas, random_state=0).fit(matrix_final)\n",
    "    return gm"
   ]
  },
  {
   "cell_type": "code",
   "execution_count": 35,
   "metadata": {},
   "outputs": [
    {
     "data": {
      "image/png": "[encoded data removed]",
      "text/plain": [
       "<Figure size 432x288 with 1 Axes>"
      ]
     },
     "metadata": {
      "needs_background": "light"
     },
     "output_type": "display_data"
    }
   ],
   "source": [
    "fig = plt.figure()\n",
    "plt.grid(True)\n",
    "plt.xlabel(\"Tiempo (muestras)\")\n",
    "plt.ylabel(\"Diferencia de frecuencias (Hz) con spectrograma\") # REVISAR\n",
    "plt.title(\"Diferencia de frecuencias con espectrograma\")\n",
    "plt.plot(fonemas[0]);"
   ]
  },
  {
   "cell_type": "code",
   "execution_count": 15,
   "metadata": {},
   "outputs": [
    {
     "data": {
      "text/plain": [
       "array([[0.658446  , 0.5599627 , 0.77868551, 0.45300087, 0.53659154,\n",
       "        0.04952372, 0.89065165, 0.60356201, 0.06010939, 0.29137802,\n",
       "        0.61259428]])"
      ]
     },
     "execution_count": 15,
     "metadata": {},
     "output_type": "execute_result"
    }
   ],
   "source": [
    "array = np.random.rand(1,11)\n",
    "array"
   ]
  },
  {
   "cell_type": "code",
   "execution_count": 1,
   "metadata": {},
   "outputs": [],
   "source": [
    "# Diccionario de fonemas a numero\n",
    "# Basados en: https://www.livingspanish.com/correspondencia-fonetica-grafia.htm\n",
    "dic_fon = {\"/a/\":1, \"/b/\":2, \"/c/\":3, \"/ch/\":4, \"/d/\":5,\n",
    "           \"/e/\":6, \"/f/\":7, \"/g/\":8, \"//\":9, \"/i/\":10,\n",
    "           \"/j/\":11, \"/k/\":12, \"/l/\":13, \"/m/\":14, \"/n/\":15,\n",
    "           \"/ñ/\":16, \"/o/\":17, \"/p/\":18, \"/rr/\":19, \"/s/\":20,\n",
    "           \"/t/\":21, \"/u/\":22, \"/x/\":23, \"/y/\":24, \"/ll/\":25,\n",
    "           \"/r/\":26\n",
    "}\n",
    "# El de h es sin espacio\n",
    "#/rr/ y /r/ están diferenciado"
   ]
  },
  {
   "cell_type": "code",
   "execution_count": null,
   "metadata": {},
   "outputs": [],
   "source": [
    "# falta desde \"ll\"\n",
    "def get_fonemas(p):\n",
    "    \"\"\"\n",
    "    Devuelve una lista con los fonemas de la palara p\n",
    "    \"\"\"\n",
    "    fonemas = []\n",
    "    vocales = {'a','e','i','o','u'}\n",
    "    for i in range(len(p)):\n",
    "        # Fonemas literales iguales a su letra\n",
    "        if p[i] in {\"a\",\"b\",\"d\",\"e\",\"f\",\"i\",\"j\",\n",
    "                    \"k\",\"m\",\"n\",\"ñ\",\"o\",\"p\",\n",
    "                    \"s\",\"t\",\"u\",\"x\",\"y\"}:\n",
    "            fonemas.append(dic_fon[\"/\"+p[i]+\"/\"])\n",
    "        elif p[i] == 'v' or p[i]=='w':\n",
    "            fonemas.append(dic_fon[\"/b/\"])\n",
    "        elif i < len(p-1):\n",
    "            # Para fonemas que dependen de letra de adelante\n",
    "            if (p[i] == 'c' and p[i+1] in {'e','i'}) or (p[i] == \"z\" and p[i+1] in {'a','o','u'}):\n",
    "                fonemas.append(dic_fon[\"/c/\"])\n",
    "            elif p[i] == \"c\" and p[i+1] == \"h\":\n",
    "                fonemas.append(dic_fon[\"/ch/\"])\n",
    "            elif p[i] == \"g\" and ((p[i+1] in {'a','o','u'}) or (p[i+1] not in vocales)):\n",
    "                fonemas.append(dic_fon[\"/g/\"])\n",
    "            elif (p[i] == \"g\" and  p[i+1] in {'e','i'}) or (p[i] == \"j\"):\n",
    "                fonemas.append(dic_fon[\"/j/\"])\n",
    "            elif p[i] == \"c\" and ((p[i+1] in {'a','o','u'}) or (p[i+1] not in vocales)):\n",
    "                fonemas.append(dic_fon[\"/k/\"])\n",
    "        elif i < (len(p)-2):\n",
    "            # Para fonemas que dependen de dos letras adelante\n",
    "            if p[i] == \"q\" and p[i+1]==\"u\" and p[i+2] in {\"e\",\"i\"}:\n",
    "                fonemas.append(dic_fon[\"/k/\"])\n",
    "        elif p[i] == \"h\":\n",
    "            if ((i > 0 and p[i-1] != \"c\") or (i==0):\n",
    "                fonemas.append(dic_fon[\"//\"])"
   ]
  }
 ],
 "metadata": {
  "kernelspec": {
   "display_name": "Python 3",
   "language": "python",
   "name": "python3"
  },
  "language_info": {
   "codemirror_mode": {
    "name": "ipython",
    "version": 3
   },
   "file_extension": ".py",
   "mimetype": "text/x-python",
   "name": "python",
   "nbconvert_exporter": "python",
   "pygments_lexer": "ipython3",
   "version": "3.8.5"
  }
 },
 "nbformat": 4,
 "nbformat_minor": 2
}
