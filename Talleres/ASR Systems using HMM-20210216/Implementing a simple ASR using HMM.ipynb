{
 "cells": [
  {
   "cell_type": "markdown",
   "metadata": {},
   "source": [
    "# Taller II: Implementing a simple ASR system using HMM\n",
    "\n",
    "En este taller implementaremos un sistema de reconocimiento automatico de habla, utilizando modelos ocultos de markov. Para este taller se puede utilizar la libreria [hmmlearn](https://hmmlearn.readthedocs.io/en/latest/tutorial.html#customizing) de Python. Este taller será parte de la nota del proyecto de evaluación del primer corte. Así que se deberá entregar al finalizar la semana 5 junto con el desarrollo del proyecto de evaluación.\n",
    "\n",
    "En este taller implementaremos un sistema de reconocimiento de habla de palabras aisladas. Esto quiere decir que hay una separación entre cada palabra pronunciada, y no se utilizará  habla fluida continua. La idea es implementar un sistema sencillo con un vocabulario limitado, para qu epuedan entender el principio de funcionamiento de estos sistemas. Para este taller deben seguir lso siguientes pasos:\n",
    "\n",
    "1. Cree un diccionaro pequeño compuesto de alrededor de 20 palabras. Si desean incluir más palabras no hay problema.\n",
    "2. Cada una de estas palabras dividalas en fonemas. Asigne a cada fonema un número para facilitar su identificación.\n",
    "3. Grabé cada una de las palbaras de forma aislada. \n",
    "4. Para cada señal de voz grabada calcule el mel espectrograma utilizando 39 componentes (este es el estandar que usan los sistemas modernos).\n",
    "5. Identifique las secciones del mel spectrograma que corresponden a cada fonema.\n",
    "6. Modele la distribución de los vectores del Mel espectrograma para cada fonema, esto puede hacerlo usando GMM (Gaussian Mixture Models).\n",
    "7. Calcule la matrix de probabilidades de transición utilizando el diccionario que ustedes crearón.\n",
    "8. Implemente el modelo HMM.\n",
    "9. Pruebe con los datos de entrenamiento si el modelo produce la secuencia de fonemas indicada.\n",
    "10. Genere un nuevo conjunto de palabras (al menos 10) que se conformen con los fonemas presentes en su diccionario. A partir de la señal de voz de cada una de estas nuevas palabras, trate de predecir la palbara escrita utilizando el modelo implementado.\n",
    "\n",
    "**NOTA:** Trate de Utilizar fonemas que tengan una única relación con letras (silabas) del alfabeto. Esto disminuirá la tasa de error del modelo."
   ]
  },
  {
   "cell_type": "markdown",
   "metadata": {},
   "source": [
    "1. Fecha -> /f/e/ch/a/\n",
    "2. Libro -> /l/i/b/r/o\n",
    "3. Lapiz -> /l/a/p/i/z\n",
    "4. Correr -> /c/o/rr/e/r\n",
    "5. Telefono -> /t/e/l/e/f/o/n/o\n",
    "6. Puerta -> /p/u/e/r/t/a\n",
    "7. Pantalla -> /p/a/n/t/a/ll/a\n",
    "8. Ximena -> /x/i/m/e/n/a\n",
    "9. Regla -> /r/e/g/l/a\n",
    "10. Billetera -> /b/i/ll/e/t/e/r/a\n",
    "11. Zapato -> /c/a/p/a/t/o\n",
    "12. Jamón -> /j/a/m/o/n/\n",
    "13. kiosko -> /k/i/o/s/k/o\n",
    "14. baloncesto -> /b/a/l/o/n/c/e/s/t/o\n",
    "15. murcielago -> /m/u/r/c/i/e/l/a/g/o\n",
    "16. muchacho -> /m/u/c/h/a/c/h/o\n",
    "17. ahijado -> /a/ /i/j/a/d/o\n",
    "18. Terremoto -> /t/e/rr/e/m/o/t/o\n",
    "19. Llorar -> /ll/o/r/a/r\n",
    "20. espantapajaro -> /e/s/p/a/n/t/a/p/a/j/a/r/o\n",
    "\n"
   ]
  },
  {
   "cell_type": "code",
   "execution_count": 1,
   "metadata": {},
   "outputs": [],
   "source": [
    "# Diccionario de fonemas a numero\n",
    "# Basados en: https://www.livingspanish.com/correspondencia-fonetica-grafia.htm\n",
    "dic_fon = {\"/a/\":1, \"/b/\":2, \"/c/\":3, \"/ch/\":4, \"/d/\":5,\n",
    "           \"/e/\":6, \"/f/\":7, \"/g/\":8, \"//\":9, \"/i/\":10,\n",
    "           \"/j/\":11, \"/k/\":12, \"/l/\":13, \"/m/\":14, \"/n/\":15,\n",
    "           \"/ñ/\":16, \"/o/\":17, \"/p/\":18, \"/rr/\":19, \"/s/\":20,\n",
    "           \"/t/\":21, \"/u/\":22, \"/x/\":23, \"/y/\":24, \"/ll/\":25,\n",
    "           \"/r/\":26\n",
    "}\n",
    "# El de h es sin espacio\n",
    "#/rr/ y /r/ están diferenciado"
   ]
  },
  {
   "cell_type": "code",
   "execution_count": null,
   "metadata": {},
   "outputs": [],
   "source": [
    "# falta desde \"ll\"\n",
    "def get_fonemas(p):\n",
    "    \"\"\"\n",
    "    Devuelve una lista con los fonemas de la palara p\n",
    "    \"\"\"\n",
    "    fonemas = []\n",
    "    vocales = {'a','e','i','o','u'}\n",
    "    for i in range(len(p)):\n",
    "        # Fonemas literales iguales a su letra\n",
    "        if p[i] in {\"a\",\"b\",\"d\",\"e\",\"f\",\"i\",\"j\",\n",
    "                    \"k\",\"m\",\"n\",\"ñ\",\"o\",\"p\",\n",
    "                    \"s\",\"t\",\"u\",\"x\",\"y\"}:\n",
    "            fonemas.append(dic_fon[\"/\"+p[i]+\"/\"])\n",
    "        elif p[i] == 'v' or p[i]=='w':\n",
    "            fonemas.append(dic_fon[\"/b/\"])\n",
    "        elif i < len(p-1):\n",
    "            # Para fonemas que dependen de letra de adelante\n",
    "            if (p[i] == 'c' and p[i+1] in {'e','i'}) or (p[i] == \"z\" and p[i+1] in {'a','o','u'}):\n",
    "                fonemas.append(dic_fon[\"/c/\"])\n",
    "            elif p[i] == \"c\" and p[i+1] == \"h\":\n",
    "                fonemas.append(dic_fon[\"/ch/\"])\n",
    "            elif p[i] == \"g\" and ((p[i+1] in {'a','o','u'}) or (p[i+1] not in vocales)):\n",
    "                fonemas.append(dic_fon[\"/g/\"])\n",
    "            elif (p[i] == \"g\" and  p[i+1] in {'e','i'}) or (p[i] == \"j\"):\n",
    "                fonemas.append(dic_fon[\"/j/\"])\n",
    "            elif p[i] == \"c\" and ((p[i+1] in {'a','o','u'}) or (p[i+1] not in vocales)):\n",
    "                fonemas.append(dic_fon[\"/k/\"])\n",
    "        elif i < (len(p)-2):\n",
    "            # Para fonemas que dependen de dos letras adelante\n",
    "            if p[i] == \"q\" and p[i+1]==\"u\" and p[i+2] in {\"e\",\"i\"}:\n",
    "                fonemas.append(dic_fon[\"/k/\"])\n",
    "        elif p[i] == \"h\":\n",
    "            if ((i > 0 and p[i-1] != \"c\") or (i==0):\n",
    "                fonemas.append(dic_fon[\"//\"])"
   ]
  },
  {
   "cell_type": "code",
   "execution_count": 4,
   "metadata": {},
   "outputs": [
    {
     "data": {
      "text/plain": [
       "False"
      ]
     },
     "execution_count": 4,
     "metadata": {},
     "output_type": "execute_result"
    }
   ],
   "source": [
    "s = \"hola\"\n",
    "i = 0\n",
    "True and True and False"
   ]
  }
 ],
 "metadata": {
  "kernelspec": {
   "display_name": "Python 3",
   "language": "python",
   "name": "python3"
  },
  "language_info": {
   "codemirror_mode": {
    "name": "ipython",
    "version": 3
   },
   "file_extension": ".py",
   "mimetype": "text/x-python",
   "name": "python",
   "nbconvert_exporter": "python",
   "pygments_lexer": "ipython3",
   "version": "3.8.5"
  }
 },
 "nbformat": 4,
 "nbformat_minor": 2
}
