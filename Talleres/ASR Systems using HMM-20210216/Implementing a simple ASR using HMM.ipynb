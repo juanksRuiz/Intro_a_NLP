{
 "cells": [
  {
   "cell_type": "markdown",
   "metadata": {},
   "source": [
    "# Taller II: Implementing a simple ASR system using HMM\n",
    "\n",
    "En este taller implementaremos un sistema de reconocimiento automatico de habla, utilizando modelos ocultos de markov. Para este taller se puede utilizar la libreria [hmmlearn](https://hmmlearn.readthedocs.io/en/latest/tutorial.html#customizing) de Python. Este taller será parte de la nota del proyecto de evaluación del primer corte. Así que se deberá entregar al finalizar la semana 5 junto con el desarrollo del proyecto de evaluación.\n",
    "\n",
    "En este taller implementaremos un sistema de reconocimiento de habla de palabras aisladas. Esto quiere decir que hay una separación entre cada palabra pronunciada, y no se utilizará  habla fluida continua. La idea es implementar un sistema sencillo con un vocabulario limitado, para qu epuedan entender el principio de funcionamiento de estos sistemas. Para este taller deben seguir lso siguientes pasos:\n",
    "\n",
    "1. Cree un diccionaro pequeño compuesto de alrededor de 20 palabras. Si desean incluir más palabras no hay problema.\n",
    "2. Cada una de estas palabras dividalas en fonemas. Asigne a cada fonema un número para facilitar su identificación.\n",
    "3. Grabé cada una de las palbaras de forma aislada. \n",
    "4. Para cada señal de voz grabada calcule el mel espectrograma utilizando 39 componentes (este es el estandar que usan los sistemas modernos).\n",
    "5. Identifique las secciones del mel spectrograma que corresponden a cada fonema.\n",
    "6. Modele la distribución de los vectores del Mel espectrograma para cada fonema, esto puede hacerlo usando GMM (Gaussian Mixture Models).\n",
    "7. Calcule la matrix de probabilidades de transición utilizando el diccionario que ustedes crearón.\n",
    "8. Implemente el modelo HMM.\n",
    "9. Pruebe con los datos de entrenamiento si el modelo produce la secuencia de fonemas indicada.\n",
    "10. Genere un nuevo conjunto de palabras (al menos 10) que se conformen con los fonemas presentes en su diccionario. A partir de la señal de voz de cada una de estas nuevas palabras, trate de predecir la palbara escrita utilizando el modelo implementado.\n",
    "\n",
    "**NOTA:** Trate de Utilizar fonemas que tengan una única relación con letras (silabas) del alfabeto. Esto disminuirá la tasa de error del modelo."
   ]
  },
  {
   "cell_type": "markdown",
   "metadata": {},
   "source": [
    "1. Fecha -> /f/e/ch/a/\n",
    "2. Libro -> /l/i/b/r/o\n",
    "3. Lapiz -> /l/a/p/i/z\n",
    "4. Correr -> /c/o/rr/e/r\n",
    "5. Telefono -> /t/e/l/e/f/o/n/o\n",
    "6. Puerta -> /p/u/e/r/t/a\n",
    "7. Pantalla -> /p/a/n/t/a/ll/a\n",
    "8. Ximena -> /x/i/m/e/n/a\n",
    "9. Regla -> /r/e/g/l/a\n",
    "10. Billetera -> /b/i/ll/e/t/e/r/a\n",
    "11. Zapato -> /c/a/p/a/t/o\n",
    "12. Jamón -> /j/a/m/o/n/\n",
    "13. kiosko -> /k/i/o/s/k/o\n",
    "14. baloncesto -> /b/a/l/o/n/c/e/s/t/o\n",
    "15. murcielago -> /m/u/r/c/i/e/l/a/g/o\n",
    "16. muchacho -> /m/u/ch/a/ch/o\n",
    "17. ahijado -> /a/ /i/j/a/d/o\n",
    "18. Terremoto -> /t/e/rr/e/m/o/t/o\n",
    "19. Llorar -> /ll/o/r/a/r\n",
    "20. espantapajaro -> /e/s/p/a/n/t/a/p/a/j/a/r/o\n",
    "\n",
    "## Clasificacion de fonemas:\n",
    "\n",
    "1. /a/ -> a -> 1\n",
    "2. /b/ -> b,v,w(depende) -> 2\n",
    "3. /c/ -> c(ante e,i),z(ante a,o,u) -> 3\n",
    "4. /ch/ -> ch -> 4\n",
    "5. /d/ -> d ->5\n",
    "6. /e/ -> e -> 6\n",
    "7. /f/ -> f -> 8\n",
    "9. /g/ -> g (ante a,o,u const), gu(ante e i) -> 9\n",
    "10. // -> h -> 10\n",
    "11. /i/ -> i,y -> 11\n",
    "12. /j/ -> g(ante e,i) j(vocales) -> 12\n",
    "13. /k/ -> c (ante a, o, u o consontante) qu (ante e, i), k -> 13\n",
    "14. /l/ -> l ->14\n",
    "15. /ll/ -> ll ->15\n",
    "16. /m/ -> m -> 16\n",
    "17. /n/ -> n ->17\n",
    "18. /ñ/ -> ñ -> 18\n",
    "19. /o/ -> o -> 19\n",
    "20. /p/ ->p ->20\n",
    "21. /r/-> r (arena) -> 21\n",
    "22. /rr/-> (arriba) -> 22\n",
    "23./s/ -> s -> 23\n",
    "24. /t/ -> t -> 24\n",
    "25. /u/ -> u -> 25\n",
    "26. /x/ -> x -> 26\n",
    "27. /y/ -> y -> 27\n",
    "\n",
    "\n"
   ]
  },
  {
   "cell_type": "code",
   "execution_count": 1,
   "metadata": {},
   "outputs": [],
   "source": [
    "import numpy as np\n",
    "import matplotlib.pyplot as plt\n",
    "import sounddevice as sd\n",
    "import scipy as sc\n",
    "from scipy import signal\n",
    "from scipy.fft import fftshift\n",
    "\n",
    "import librosa\n",
    "import librosa.display\n",
    "\n",
    "from mpl_toolkits.mplot3d import Axes3D\n",
    "from matplotlib import cm\n",
    "\n",
    "import soundfile as sf\n",
    "import os"
   ]
  },
  {
   "cell_type": "code",
   "execution_count": 3,
   "metadata": {},
   "outputs": [],
   "source": [
    "fs = 8000 # Numero de muestras por segundo\n",
    "nBits = 16 # Numero de bits por muestra del audio\n",
    "ID = -1\n",
    "seconds = 5 # Duracion de la grabacion\n",
    "Nfft = 512\n",
    "fm = np.arange(0, Nfft / 4) * fs / Nfft"
   ]
  },
  {
   "cell_type": "code",
   "execution_count": 4,
   "metadata": {},
   "outputs": [
    {
     "data": {
      "text/plain": [
       "['ahijado.wav',\n",
       " 'balocesto.wav',\n",
       " 'espantapajaro.wav',\n",
       " 'jamon.wav',\n",
       " 'kiosko.wav',\n",
       " 'llorar.wav',\n",
       " 'muchacho.wav',\n",
       " 'murcielago.wav',\n",
       " 'sound1.wav',\n",
       " 'sound10.wav',\n",
       " 'sound2.wav',\n",
       " 'sound3.wav',\n",
       " 'sound4.wav',\n",
       " 'sound5.wav',\n",
       " 'sound6.wav',\n",
       " 'sound7.wav',\n",
       " 'sound8.wav',\n",
       " 'sound9.wav',\n",
       " 'terremoto.wav',\n",
       " 'zapato.wav']"
      ]
     },
     "execution_count": 4,
     "metadata": {},
     "output_type": "execute_result"
    }
   ],
   "source": [
    "nombres = os.listdir('./utils/sounds/')\n",
    "nombres"
   ]
  },
  {
   "cell_type": "code",
   "execution_count": 34,
   "metadata": {},
   "outputs": [
    {
     "data": {
      "text/plain": [
       "{'ahijado.wav': 6,\n",
       " 'balocesto.wav': 10,\n",
       " 'espantapajaro.wav': 13,\n",
       " 'jamon.wav': 5,\n",
       " 'kiosko.wav': 6,\n",
       " 'llorar.wav': 5,\n",
       " 'muchacho.wav': 6,\n",
       " 'murcielago.wav': 10,\n",
       " 'sound1.wav': 4,\n",
       " 'sound10.wav': 8,\n",
       " 'sound2.wav': 5,\n",
       " 'sound3.wav': 5,\n",
       " 'sound4.wav': 5,\n",
       " 'sound5.wav': 8,\n",
       " 'sound6.wav': 6,\n",
       " 'sound7.wav': 7,\n",
       " 'sound8.wav': 6,\n",
       " 'sound9.wav': 5,\n",
       " 'terremoto.wav': 8,\n",
       " 'zapato.wav': 6}"
      ]
     },
     "execution_count": 34,
     "metadata": {},
     "output_type": "execute_result"
    }
   ],
   "source": [
    "fonemas = [6,10,13,5,6,5,6,10,4,8,5,5,5,8,6,7,6,5,8,6]\n",
    "dicc = {}\n",
    "for idx,i in enumerate(nombres):\n",
    "    dicc[i] = fonemas[idx]\n",
    "dicc"
   ]
  },
  {
   "cell_type": "code",
   "execution_count": 5,
   "metadata": {},
   "outputs": [],
   "source": [
    "def getAudios(nombres):\n",
    "    audios = []\n",
    "    for i in nombres:\n",
    "        y_aux, fs_aux = sf.read('./utils/sounds/' + i)\n",
    "        if len(y_aux.shape) > 1:\n",
    "            y_aux = y_aux[:,0]\n",
    "            y = ((1/np.std(y_aux))*y_aux).reshape(len(y_aux))\n",
    "        else:\n",
    "            y = ((1/np.std(y_aux))*y_aux).reshape(len(y_aux))\n",
    "        audios.append(y)\n",
    "    return audios"
   ]
  },
  {
   "cell_type": "code",
   "execution_count": 6,
   "metadata": {},
   "outputs": [],
   "source": [
    "def getMelSpectogram(audios,fs,Nfft):\n",
    "    spectograms = []\n",
    "    for i in audios:\n",
    "        Sm = librosa.feature.melspectrogram(y=i, sr=fs, n_fft=Nfft, n_mels = 39)\n",
    "        spectograms.append(Sm)\n",
    "    return spectograms"
   ]
  },
  {
   "cell_type": "code",
   "execution_count": 7,
   "metadata": {},
   "outputs": [],
   "source": [
    "audios = getAudios(nombres)"
   ]
  },
  {
   "cell_type": "code",
   "execution_count": 8,
   "metadata": {},
   "outputs": [],
   "source": [
    "Spectograms = getMelSpectogram(audios,fs,Nfft)"
   ]
  },
  {
   "cell_type": "code",
   "execution_count": 9,
   "metadata": {},
   "outputs": [
    {
     "name": "stderr",
     "output_type": "stream",
     "text": [
      "C:\\Users\\dfraf\\anaconda3\\envs\\Proyecto1_NLP\\lib\\site-packages\\librosa\\display.py:974: MatplotlibDeprecationWarning: The 'basey' parameter of __init__() has been renamed 'base' since Matplotlib 3.3; support for the old name will be dropped two minor releases later.\n",
      "  scaler(mode, **kwargs)\n",
      "C:\\Users\\dfraf\\anaconda3\\envs\\Proyecto1_NLP\\lib\\site-packages\\librosa\\display.py:974: MatplotlibDeprecationWarning: The 'linthreshy' parameter of __init__() has been renamed 'linthresh' since Matplotlib 3.3; support for the old name will be dropped two minor releases later.\n",
      "  scaler(mode, **kwargs)\n",
      "C:\\Users\\dfraf\\anaconda3\\envs\\Proyecto1_NLP\\lib\\site-packages\\librosa\\display.py:974: MatplotlibDeprecationWarning: The 'linscaley' parameter of __init__() has been renamed 'linscale' since Matplotlib 3.3; support for the old name will be dropped two minor releases later.\n",
      "  scaler(mode, **kwargs)\n"
     ]
    },
    {
     "data": {
      "image/png": "[encoded data removed]",
      "text/plain": [
       "<Figure size 432x288 with 2 Axes>"
      ]
     },
     "metadata": {
      "needs_background": "light"
     },
     "output_type": "display_data"
    }
   ],
   "source": [
    "# Graficando diversos espectogramas\n",
    "Sm = Spectograms[0]\n",
    "fig=plt.figure()\n",
    "#librosa.display.specshow(Sm,y_axis='mel',x_axis='time')\n",
    "librosa.display.specshow(Sm, sr=fs, hop_length=Nfft, x_axis='time', y_axis='log')\n",
    "plt.colorbar() #Confirmar unidad\n",
    "plt.title(\"Mel spectrogram\")\n",
    "plt.tight_layout()"
   ]
  },
  {
   "cell_type": "code",
   "execution_count": 10,
   "metadata": {},
   "outputs": [],
   "source": [
    "def getVectorErrores(Spectograms):\n",
    "    DSms = []\n",
    "    for i in Spectograms:\n",
    "        D_Sm = np.sqrt(np.sum((i[:,1:] - i[:,0:-1])**2,axis=0))\n",
    "        DSms.append(D_Sm)\n",
    "    return DSms"
   ]
  },
  {
   "cell_type": "code",
   "execution_count": 11,
   "metadata": {},
   "outputs": [],
   "source": [
    "DSms = getVectorErrores(Spectograms)"
   ]
  },
  {
   "cell_type": "code",
   "execution_count": 12,
   "metadata": {},
   "outputs": [],
   "source": [
    "y_aux, fs_aux = sf.read('./utils/sounds/' + 'ahijado.wav')\n",
    "sd.play(y_aux,fs_aux)"
   ]
  },
  {
   "cell_type": "code",
   "execution_count": 13,
   "metadata": {},
   "outputs": [
    {
     "data": {
      "text/plain": [
       "<matplotlib.collections.LineCollection at 0x18570644700>"
      ]
     },
     "execution_count": 13,
     "metadata": {},
     "output_type": "execute_result"
    },
    {
     "data": {
      "image/png": "[encoded data removed]",
      "text/plain": [
       "<Figure size 432x288 with 1 Axes>"
      ]
     },
     "metadata": {
      "needs_background": "light"
     },
     "output_type": "display_data"
    }
   ],
   "source": [
    "D_Sw = DSms[2]\n",
    "fig = plt.figure()\n",
    "plt.grid(True)\n",
    "plt.xlabel(\"Tiempo (muestras)\")\n",
    "plt.ylabel(\"Diferencia de frecuencias (Hz) con spectrograma\") # REVISAR\n",
    "plt.title(\"Diferencia de frecuencias con espectrograma\")\n",
    "plt.plot(D_Sw)\n",
    "plt.hlines(80, xmin = 0, xmax = len(D_Sw), colors = 'r')"
   ]
  },
  {
   "cell_type": "code",
   "execution_count": 65,
   "metadata": {},
   "outputs": [],
   "source": [
    "aux = D_Sw[D_Sw > 100]"
   ]
  },
  {
   "cell_type": "code",
   "execution_count": 66,
   "metadata": {},
   "outputs": [
    {
     "data": {
      "image/png": "[encoded data removed]",
      "text/plain": [
       "<Figure size 432x288 with 1 Axes>"
      ]
     },
     "metadata": {
      "needs_background": "light"
     },
     "output_type": "display_data"
    }
   ],
   "source": [
    "fig = plt.figure()\n",
    "plt.grid(True)\n",
    "plt.xlabel(\"Tiempo (muestras)\")\n",
    "plt.ylabel(\"Diferencia de frecuencias (Hz) con spectrograma\") # REVISAR\n",
    "plt.title(\"Diferencia de frecuencias con espectrograma\")\n",
    "plt.plot(aux);"
   ]
  },
  {
   "cell_type": "code",
   "execution_count": 16,
   "metadata": {},
   "outputs": [],
   "source": [
    "def getFonemas(DSms, dicc_fonemas, nombres):\n",
    "    epsilon = 50\n",
    "    fonemas = []\n",
    "    for idx,i in enumerate(DSms):\n",
    "        j_I = 0\n",
    "        while (i[j_I] < epsilon):\n",
    "            j += 1\n",
    "        j_D = len(i)\n",
    "        while (i[j_D] < epsilon):\n",
    "            j -= 1\n",
    "        i_palabra = i[j_I:j_D + 1]\n",
    "        num_fonemas = dicc_fonemas[nombre[idx]]\n",
    "        fonemas.append(np.array_split(i_palabra,num_fonemas))\n",
    "    return fonemas"
   ]
  },
  {
   "cell_type": "code",
   "execution_count": 17,
   "metadata": {},
   "outputs": [
    {
     "ename": "NameError",
     "evalue": "name 'dicc' is not defined",
     "output_type": "error",
     "traceback": [
      "\u001b[1;31m---------------------------------------------------------------------------\u001b[0m",
      "\u001b[1;31mNameError\u001b[0m                                 Traceback (most recent call last)",
      "\u001b[1;32m<ipython-input-17-b22463c77e0a>\u001b[0m in \u001b[0;36m<module>\u001b[1;34m\u001b[0m\n\u001b[1;32m----> 1\u001b[1;33m \u001b[0mfonemas\u001b[0m \u001b[1;33m=\u001b[0m \u001b[0mgetFonemas\u001b[0m\u001b[1;33m(\u001b[0m\u001b[0mDSms\u001b[0m\u001b[1;33m,\u001b[0m \u001b[0mdicc\u001b[0m\u001b[1;33m,\u001b[0m \u001b[0mnombres\u001b[0m\u001b[1;33m)\u001b[0m\u001b[1;33m\u001b[0m\u001b[1;33m\u001b[0m\u001b[0m\n\u001b[0m",
      "\u001b[1;31mNameError\u001b[0m: name 'dicc' is not defined"
     ]
    }
   ],
   "source": [
    "fonemas = getFonemas(DSms, dicc, nombres)"
   ]
  },
  {
   "cell_type": "code",
   "execution_count": 15,
   "metadata": {},
   "outputs": [
    {
     "data": {
      "text/plain": [
       "array([[0.658446  , 0.5599627 , 0.77868551, 0.45300087, 0.53659154,\n",
       "        0.04952372, 0.89065165, 0.60356201, 0.06010939, 0.29137802,\n",
       "        0.61259428]])"
      ]
     },
     "execution_count": 15,
     "metadata": {},
     "output_type": "execute_result"
    }
   ],
   "source": [
    "array = np.random.rand(1,11)\n",
    "array"
   ]
  },
  {
   "cell_type": "code",
   "execution_count": 1,
   "metadata": {},
   "outputs": [],
   "source": [
    "# Diccionario de fonemas a numero\n",
    "# Basados en: https://www.livingspanish.com/correspondencia-fonetica-grafia.htm\n",
    "dic_fon = {\"/a/\":1, \"/b/\":2, \"/c/\":3, \"/ch/\":4, \"/d/\":5,\n",
    "           \"/e/\":6, \"/f/\":7, \"/g/\":8, \"//\":9, \"/i/\":10,\n",
    "           \"/j/\":11, \"/k/\":12, \"/l/\":13, \"/m/\":14, \"/n/\":15,\n",
    "           \"/ñ/\":16, \"/o/\":17, \"/p/\":18, \"/rr/\":19, \"/s/\":20,\n",
    "           \"/t/\":21, \"/u/\":22, \"/x/\":23, \"/y/\":24, \"/ll/\":25,\n",
    "           \"/r/\":26\n",
    "}\n",
    "# El de h es sin espacio\n",
    "#/rr/ y /r/ están diferenciado"
   ]
  },
  {
   "cell_type": "code",
   "execution_count": null,
   "metadata": {},
   "outputs": [],
   "source": [
    "# falta desde \"ll\"\n",
    "def get_fonemas(p):\n",
    "    \"\"\"\n",
    "    Devuelve una lista con los fonemas de la palara p\n",
    "    \"\"\"\n",
    "    fonemas = []\n",
    "    vocales = {'a','e','i','o','u'}\n",
    "    for i in range(len(p)):\n",
    "        # Fonemas literales iguales a su letra\n",
    "        if p[i] in {\"a\",\"b\",\"d\",\"e\",\"f\",\"i\",\"j\",\n",
    "                    \"k\",\"m\",\"n\",\"ñ\",\"o\",\"p\",\n",
    "                    \"s\",\"t\",\"u\",\"x\",\"y\"}:\n",
    "            fonemas.append(dic_fon[\"/\"+p[i]+\"/\"])\n",
    "        elif p[i] == 'v' or p[i]=='w':\n",
    "            fonemas.append(dic_fon[\"/b/\"])\n",
    "        elif i < len(p-1):\n",
    "            # Para fonemas que dependen de letra de adelante\n",
    "            if (p[i] == 'c' and p[i+1] in {'e','i'}) or (p[i] == \"z\" and p[i+1] in {'a','o','u'}):\n",
    "                fonemas.append(dic_fon[\"/c/\"])\n",
    "            elif p[i] == \"c\" and p[i+1] == \"h\":\n",
    "                fonemas.append(dic_fon[\"/ch/\"])\n",
    "            elif p[i] == \"g\" and ((p[i+1] in {'a','o','u'}) or (p[i+1] not in vocales)):\n",
    "                fonemas.append(dic_fon[\"/g/\"])\n",
    "            elif (p[i] == \"g\" and  p[i+1] in {'e','i'}) or (p[i] == \"j\"):\n",
    "                fonemas.append(dic_fon[\"/j/\"])\n",
    "            elif p[i] == \"c\" and ((p[i+1] in {'a','o','u'}) or (p[i+1] not in vocales)):\n",
    "                fonemas.append(dic_fon[\"/k/\"])\n",
    "        elif i < (len(p)-2):\n",
    "            # Para fonemas que dependen de dos letras adelante\n",
    "            if p[i] == \"q\" and p[i+1]==\"u\" and p[i+2] in {\"e\",\"i\"}:\n",
    "                fonemas.append(dic_fon[\"/k/\"])\n",
    "        elif p[i] == \"h\":\n",
    "            if ((i > 0 and p[i-1] != \"c\") or (i==0):\n",
    "                fonemas.append(dic_fon[\"//\"])"
   ]
  }
 ],
 "metadata": {
  "kernelspec": {
   "display_name": "Python 3",
   "language": "python",
   "name": "python3"
  },
  "language_info": {
   "codemirror_mode": {
    "name": "ipython",
    "version": 3
   },
   "file_extension": ".py",
   "mimetype": "text/x-python",
   "name": "python",
   "nbconvert_exporter": "python",
   "pygments_lexer": "ipython3",
   "version": "3.8.5"
  }
 },
 "nbformat": 4,
 "nbformat_minor": 2
}
